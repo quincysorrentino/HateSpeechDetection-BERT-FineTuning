{
 "cells": [
  {
   "cell_type": "code",
   "execution_count": 11,
   "id": "ea5d4efa",
   "metadata": {},
   "outputs": [],
   "source": [
    "from datasets import load_dataset\n",
    "import pandas as pd \n",
    "from sklearn.model_selection import train_test_split"
   ]
  },
  {
   "cell_type": "code",
   "execution_count": 12,
   "id": "1ade8d8f",
   "metadata": {},
   "outputs": [
    {
     "name": "stderr",
     "output_type": "stream",
     "text": [
      "Repo card metadata block was not found. Setting CardData to empty.\n"
     ]
    }
   ],
   "source": [
    "from datasets import load_dataset\n",
    "\n",
    "# Load directly from Hugging Face Hub by its dataset identifier\n",
    "hate_explain = load_dataset(\"Abhi0072/HateXplain\")\n",
    "\n",
    "# convert to dataframe\n",
    "hate_explain = hate_explain['train'].to_pandas()"
   ]
  },
  {
   "cell_type": "code",
   "execution_count": 13,
   "id": "621851c7",
   "metadata": {},
   "outputs": [
    {
     "name": "stdout",
     "output_type": "stream",
     "text": [
      "<class 'pandas.core.frame.DataFrame'>\n",
      "RangeIndex: 20148 entries, 0 to 20147\n",
      "Data columns (total 2 columns):\n",
      " #   Column  Non-Null Count  Dtype \n",
      "---  ------  --------------  ----- \n",
      " 0   text    20148 non-null  object\n",
      " 1   label   20148 non-null  object\n",
      "dtypes: object(2)\n",
      "memory usage: 314.9+ KB\n"
     ]
    },
    {
     "data": {
      "text/html": [
       "<div>\n",
       "<style scoped>\n",
       "    .dataframe tbody tr th:only-of-type {\n",
       "        vertical-align: middle;\n",
       "    }\n",
       "\n",
       "    .dataframe tbody tr th {\n",
       "        vertical-align: top;\n",
       "    }\n",
       "\n",
       "    .dataframe thead th {\n",
       "        text-align: right;\n",
       "    }\n",
       "</style>\n",
       "<table border=\"1\" class=\"dataframe\">\n",
       "  <thead>\n",
       "    <tr style=\"text-align: right;\">\n",
       "      <th></th>\n",
       "      <th>text</th>\n",
       "      <th>label</th>\n",
       "    </tr>\n",
       "  </thead>\n",
       "  <tbody>\n",
       "    <tr>\n",
       "      <th>0</th>\n",
       "      <td>i dont think im getting my baby them white 9 h...</td>\n",
       "      <td>normal</td>\n",
       "    </tr>\n",
       "    <tr>\n",
       "      <th>1</th>\n",
       "      <td>we cannot continue calling ourselves feminists...</td>\n",
       "      <td>normal</td>\n",
       "    </tr>\n",
       "    <tr>\n",
       "      <th>2</th>\n",
       "      <td>nawt yall niggers ignoring me</td>\n",
       "      <td>normal</td>\n",
       "    </tr>\n",
       "    <tr>\n",
       "      <th>3</th>\n",
       "      <td>&lt;user&gt; i am bit confused coz chinese ppl can n...</td>\n",
       "      <td>hatespeech</td>\n",
       "    </tr>\n",
       "    <tr>\n",
       "      <th>4</th>\n",
       "      <td>this bitch in whataburger eating a burger with...</td>\n",
       "      <td>hatespeech</td>\n",
       "    </tr>\n",
       "    <tr>\n",
       "      <th>5</th>\n",
       "      <td>laura loomer raped me while screaming at me in...</td>\n",
       "      <td>hatespeech</td>\n",
       "    </tr>\n",
       "    <tr>\n",
       "      <th>6</th>\n",
       "      <td>and this is why i end up with nigger trainee d...</td>\n",
       "      <td>hatespeech</td>\n",
       "    </tr>\n",
       "    <tr>\n",
       "      <th>7</th>\n",
       "      <td>nogs jews and dykes how enriching</td>\n",
       "      <td>offensive</td>\n",
       "    </tr>\n",
       "    <tr>\n",
       "      <th>8</th>\n",
       "      <td>guilty until proven innocent unless you are a ...</td>\n",
       "      <td>hatespeech</td>\n",
       "    </tr>\n",
       "    <tr>\n",
       "      <th>9</th>\n",
       "      <td>tired i can not support abortion from a moral ...</td>\n",
       "      <td>hatespeech</td>\n",
       "    </tr>\n",
       "  </tbody>\n",
       "</table>\n",
       "</div>"
      ],
      "text/plain": [
       "                                                text       label\n",
       "0  i dont think im getting my baby them white 9 h...      normal\n",
       "1  we cannot continue calling ourselves feminists...      normal\n",
       "2                      nawt yall niggers ignoring me      normal\n",
       "3  <user> i am bit confused coz chinese ppl can n...  hatespeech\n",
       "4  this bitch in whataburger eating a burger with...  hatespeech\n",
       "5  laura loomer raped me while screaming at me in...  hatespeech\n",
       "6  and this is why i end up with nigger trainee d...  hatespeech\n",
       "7                  nogs jews and dykes how enriching   offensive\n",
       "8  guilty until proven innocent unless you are a ...  hatespeech\n",
       "9  tired i can not support abortion from a moral ...  hatespeech"
      ]
     },
     "execution_count": 13,
     "metadata": {},
     "output_type": "execute_result"
    }
   ],
   "source": [
    "hate_explain.info()\n",
    "hate_explain.head(10)"
   ]
  },
  {
   "cell_type": "code",
   "execution_count": 14,
   "id": "a3894028",
   "metadata": {},
   "outputs": [],
   "source": [
    "label_mapping = {\n",
    "    \"normal\": 2,\n",
    "    \"hatespeech\": 0,\n",
    "    \"offensive\": 1\n",
    "\n",
    "}\n",
    "\n",
    "# Apply the mapping to the label column\n",
    "hate_explain['label'] = hate_explain['label'].apply(lambda label: label_mapping.get(label))"
   ]
  },
  {
   "cell_type": "code",
   "execution_count": 15,
   "id": "3fc34bfa",
   "metadata": {},
   "outputs": [
    {
     "data": {
      "text/html": [
       "<div>\n",
       "<style scoped>\n",
       "    .dataframe tbody tr th:only-of-type {\n",
       "        vertical-align: middle;\n",
       "    }\n",
       "\n",
       "    .dataframe tbody tr th {\n",
       "        vertical-align: top;\n",
       "    }\n",
       "\n",
       "    .dataframe thead th {\n",
       "        text-align: right;\n",
       "    }\n",
       "</style>\n",
       "<table border=\"1\" class=\"dataframe\">\n",
       "  <thead>\n",
       "    <tr style=\"text-align: right;\">\n",
       "      <th></th>\n",
       "      <th>text</th>\n",
       "      <th>label</th>\n",
       "    </tr>\n",
       "  </thead>\n",
       "  <tbody>\n",
       "    <tr>\n",
       "      <th>0</th>\n",
       "      <td>i dont think im getting my baby them white 9 h...</td>\n",
       "      <td>2</td>\n",
       "    </tr>\n",
       "    <tr>\n",
       "      <th>1</th>\n",
       "      <td>we cannot continue calling ourselves feminists...</td>\n",
       "      <td>2</td>\n",
       "    </tr>\n",
       "    <tr>\n",
       "      <th>2</th>\n",
       "      <td>nawt yall niggers ignoring me</td>\n",
       "      <td>2</td>\n",
       "    </tr>\n",
       "    <tr>\n",
       "      <th>3</th>\n",
       "      <td>&lt;user&gt; i am bit confused coz chinese ppl can n...</td>\n",
       "      <td>0</td>\n",
       "    </tr>\n",
       "    <tr>\n",
       "      <th>4</th>\n",
       "      <td>this bitch in whataburger eating a burger with...</td>\n",
       "      <td>0</td>\n",
       "    </tr>\n",
       "    <tr>\n",
       "      <th>5</th>\n",
       "      <td>laura loomer raped me while screaming at me in...</td>\n",
       "      <td>0</td>\n",
       "    </tr>\n",
       "    <tr>\n",
       "      <th>6</th>\n",
       "      <td>and this is why i end up with nigger trainee d...</td>\n",
       "      <td>0</td>\n",
       "    </tr>\n",
       "    <tr>\n",
       "      <th>7</th>\n",
       "      <td>nogs jews and dykes how enriching</td>\n",
       "      <td>1</td>\n",
       "    </tr>\n",
       "    <tr>\n",
       "      <th>8</th>\n",
       "      <td>guilty until proven innocent unless you are a ...</td>\n",
       "      <td>0</td>\n",
       "    </tr>\n",
       "    <tr>\n",
       "      <th>9</th>\n",
       "      <td>tired i can not support abortion from a moral ...</td>\n",
       "      <td>0</td>\n",
       "    </tr>\n",
       "  </tbody>\n",
       "</table>\n",
       "</div>"
      ],
      "text/plain": [
       "                                                text  label\n",
       "0  i dont think im getting my baby them white 9 h...      2\n",
       "1  we cannot continue calling ourselves feminists...      2\n",
       "2                      nawt yall niggers ignoring me      2\n",
       "3  <user> i am bit confused coz chinese ppl can n...      0\n",
       "4  this bitch in whataburger eating a burger with...      0\n",
       "5  laura loomer raped me while screaming at me in...      0\n",
       "6  and this is why i end up with nigger trainee d...      0\n",
       "7                  nogs jews and dykes how enriching      1\n",
       "8  guilty until proven innocent unless you are a ...      0\n",
       "9  tired i can not support abortion from a moral ...      0"
      ]
     },
     "execution_count": 15,
     "metadata": {},
     "output_type": "execute_result"
    }
   ],
   "source": [
    "hate_explain.head(10)"
   ]
  },
  {
   "cell_type": "code",
   "execution_count": 16,
   "id": "5925fba5",
   "metadata": {},
   "outputs": [],
   "source": [
    "davidson_dataset = load_dataset(\"tdavidson/hate_speech_offensive\")\n",
    "# convert to dataframe\n",
    "davidson_df = davidson_dataset['train'].to_pandas()"
   ]
  },
  {
   "cell_type": "code",
   "execution_count": 17,
   "id": "fa09dae7",
   "metadata": {},
   "outputs": [],
   "source": [
    "# Rename 'class' column to 'label'\n",
    "davidson_df = davidson_df.rename(columns={'class': 'label', 'tweet': 'text'})\n",
    "davidson_df = davidson_df.drop(columns=[\"neither_count\", \"offensive_language_count\", \"hate_speech_count\",\"count\"])"
   ]
  },
  {
   "cell_type": "code",
   "execution_count": 18,
   "id": "d7cd3c7c",
   "metadata": {},
   "outputs": [
    {
     "name": "stdout",
     "output_type": "stream",
     "text": [
      "<class 'pandas.core.frame.DataFrame'>\n",
      "RangeIndex: 24783 entries, 0 to 24782\n",
      "Data columns (total 2 columns):\n",
      " #   Column  Non-Null Count  Dtype \n",
      "---  ------  --------------  ----- \n",
      " 0   label   24783 non-null  int64 \n",
      " 1   text    24783 non-null  object\n",
      "dtypes: int64(1), object(1)\n",
      "memory usage: 387.4+ KB\n"
     ]
    }
   ],
   "source": [
    "davidson_df.info()"
   ]
  },
  {
   "cell_type": "code",
   "execution_count": 19,
   "id": "51a0a301",
   "metadata": {},
   "outputs": [
    {
     "name": "stdout",
     "output_type": "stream",
     "text": [
      "<class 'pandas.core.frame.DataFrame'>\n",
      "Index: 2670 entries, 29 to 21997\n",
      "Data columns (total 2 columns):\n",
      " #   Column  Non-Null Count  Dtype \n",
      "---  ------  --------------  ----- \n",
      " 0   text    2670 non-null   object\n",
      " 1   label   2670 non-null   int64 \n",
      "dtypes: int64(1), object(1)\n",
      "memory usage: 62.6+ KB\n"
     ]
    }
   ],
   "source": [
    "gab = load_dataset(\"juliadollis/The_Gab_Hate_Corpus_ghc_train_original\")\n",
    "# convert to dataframe\n",
    "gab = gab['train'].to_pandas()\n",
    "\n",
    "# Filter hate speech (either attacks dignity or calls for violence)\n",
    "gab_hate = gab[(gab[\"hd\"] == 1) | (gab[\"cv\"] == 1)].copy()\n",
    "\n",
    "gab_hate['label'] = 0\n",
    "gab_hate = gab_hate.drop(columns=[\"hd\", \"cv\", \"vo\"])\n",
    "\n",
    "\n",
    "# Filter only offensive speech (vulgar but not hateful)\n",
    "gab_offensive = gab[(gab[\"vo\"] == 1) & (gab[\"hd\"] == 0) & (gab[\"cv\"] == 0)].copy()\n",
    "\n",
    "gab_offensive['label'] = 1\n",
    "gab_offensive = gab_offensive.drop(columns=[\"hd\", \"cv\", \"vo\"])\n",
    "gab_offensive.head()\n",
    "\n",
    "gab = pd.concat([gab_hate, gab_offensive])\n",
    "\n",
    "gab.info()\n"
   ]
  },
  {
   "cell_type": "code",
   "execution_count": 20,
   "id": "7467b137",
   "metadata": {},
   "outputs": [
    {
     "name": "stdout",
     "output_type": "stream",
     "text": [
      "<class 'pandas.core.frame.DataFrame'>\n",
      "Index: 5679 entries, 1 to 5678\n",
      "Data columns (total 2 columns):\n",
      " #   Column  Non-Null Count  Dtype \n",
      "---  ------  --------------  ----- \n",
      " 0   text    5678 non-null   object\n",
      " 1   label   5679 non-null   int64 \n",
      "dtypes: int64(1), object(1)\n",
      "memory usage: 133.1+ KB\n"
     ]
    }
   ],
   "source": [
    "frankshu = load_dataset(\"thefrankhsu/hate_speech_twitter\")\n",
    "# convert to dataframe\n",
    "frankshu = frankshu['train'].to_pandas()\n",
    "\n",
    "frankshu_hate = frankshu[frankshu['label'] == 1].copy()\n",
    "frankshu_hate['label'] = 0\n",
    "\n",
    "frankshu_normal = frankshu[frankshu['label'] == 0].copy()\n",
    "frankshu_normal['label'] = 2\n",
    "\n",
    "frankshu = pd.concat([frankshu_hate, frankshu_normal])\n",
    "\n",
    "frankshu = frankshu.drop(columns=['categories'])\n",
    "frankshu = frankshu.rename(columns={\"tweet\": \"text\"})\n",
    "frankshu.info()"
   ]
  },
  {
   "cell_type": "code",
   "execution_count": null,
   "id": "c74d46e8",
   "metadata": {},
   "outputs": [],
   "source": [
    "frankshu = load_dataset(\"\")"
   ]
  },
  {
   "cell_type": "code",
   "execution_count": 21,
   "id": "60d7ebe9",
   "metadata": {},
   "outputs": [],
   "source": [
    "dataset = pd.concat([hate_explain, davidson_df, gab, frankshu])"
   ]
  },
  {
   "cell_type": "code",
   "execution_count": 22,
   "id": "bcf1b887",
   "metadata": {},
   "outputs": [
    {
     "name": "stdout",
     "output_type": "stream",
     "text": [
      "<class 'pandas.core.frame.DataFrame'>\n",
      "Index: 53280 entries, 0 to 5678\n",
      "Data columns (total 2 columns):\n",
      " #   Column  Non-Null Count  Dtype \n",
      "---  ------  --------------  ----- \n",
      " 0   text    53279 non-null  object\n",
      " 1   label   53280 non-null  int64 \n",
      "dtypes: int64(1), object(1)\n",
      "memory usage: 1.2+ MB\n"
     ]
    }
   ],
   "source": [
    "dataset.info()"
   ]
  },
  {
   "cell_type": "code",
   "execution_count": 23,
   "id": "95342e57",
   "metadata": {},
   "outputs": [
    {
     "data": {
      "text/plain": [
       "label\n",
       "1    25867\n",
       "2    16535\n",
       "0    10878\n",
       "Name: count, dtype: int64"
      ]
     },
     "execution_count": 23,
     "metadata": {},
     "output_type": "execute_result"
    }
   ],
   "source": [
    "dataset[\"label\"].value_counts()"
   ]
  },
  {
   "cell_type": "code",
   "execution_count": 24,
   "id": "782dd864",
   "metadata": {},
   "outputs": [
    {
     "name": "stdout",
     "output_type": "stream",
     "text": [
      "0    i dont think im getting my baby them white 9 h...\n",
      "1    we cannot continue calling ourselves feminists...\n",
      "2                        nawt yall niggers ignoring me\n",
      "3    <user> i am bit confused coz chinese ppl can n...\n",
      "4    this bitch in whataburger eating a burger with...\n",
      "5    laura loomer raped me while screaming at me in...\n",
      "6    and this is why i end up with nigger trainee d...\n",
      "7                    nogs jews and dykes how enriching\n",
      "8    guilty until proven innocent unless you are a ...\n",
      "9    tired i can not support abortion from a moral ...\n",
      "Name: text, dtype: object\n"
     ]
    }
   ],
   "source": [
    "print(dataset.iloc[:10]['text'])"
   ]
  },
  {
   "cell_type": "code",
   "execution_count": 31,
   "id": "627bbe03",
   "metadata": {},
   "outputs": [],
   "source": [
    "train_data = pd.read_csv(\"../data/processed_training_data.csv\")"
   ]
  },
  {
   "cell_type": "code",
   "execution_count": 32,
   "id": "12041cc6",
   "metadata": {},
   "outputs": [
    {
     "data": {
      "text/plain": [
       "label\n",
       "1    18117\n",
       "2    11581\n",
       "0     7619\n",
       "Name: count, dtype: int64"
      ]
     },
     "execution_count": 32,
     "metadata": {},
     "output_type": "execute_result"
    }
   ],
   "source": [
    "train_data['label'].value_counts()"
   ]
  },
  {
   "cell_type": "code",
   "execution_count": null,
   "id": "b0adface",
   "metadata": {},
   "outputs": [],
   "source": []
  }
 ],
 "metadata": {
  "kernelspec": {
   "display_name": ".venv",
   "language": "python",
   "name": "python3"
  },
  "language_info": {
   "codemirror_mode": {
    "name": "ipython",
    "version": 3
   },
   "file_extension": ".py",
   "mimetype": "text/x-python",
   "name": "python",
   "nbconvert_exporter": "python",
   "pygments_lexer": "ipython3",
   "version": "3.12.7"
  }
 },
 "nbformat": 4,
 "nbformat_minor": 5
}
