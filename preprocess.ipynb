{
 "cells": [
  {
   "cell_type": "code",
   "execution_count": 1,
   "id": "a90b5eab",
   "metadata": {},
   "outputs": [
    {
     "name": "stderr",
     "output_type": "stream",
     "text": [
      "c:\\Users\\qwsor\\OneDrive\\Desktop\\Hate-Speech-Detection-DistilBERT\\.venv\\Lib\\site-packages\\tqdm\\auto.py:21: TqdmWarning: IProgress not found. Please update jupyter and ipywidgets. See https://ipywidgets.readthedocs.io/en/stable/user_install.html\n",
      "  from .autonotebook import tqdm as notebook_tqdm\n"
     ]
    }
   ],
   "source": [
    "import pandas as pd\n",
    "import re\n",
    "import emoji\n",
    "from datasets import load_dataset\n",
    "from transformers import AutoTokenizer, AutoModelForTokenClassification\n",
    "from transformers import pipeline\n",
    "import torch\n"
   ]
  },
  {
   "cell_type": "code",
   "execution_count": 2,
   "id": "4d0094aa",
   "metadata": {},
   "outputs": [],
   "source": [
    "train_data = pd.read_csv(\"data/train_data.csv\")\n",
    "test_data = pd.read_csv(\"data/test_data.csv\")\n",
    "val_data = pd.read_csv(\"data/val_data.csv\")"
   ]
  },
  {
   "cell_type": "code",
   "execution_count": 3,
   "id": "372d36c7",
   "metadata": {},
   "outputs": [],
   "source": [
    "\n",
    "\n",
    "def regex_clean(text):\n",
    "    \"\"\"Clean social media text while preserving important context\"\"\"\n",
    "    \n",
    "    # Handle @mentions - replace with generic token\n",
    "    text = re.sub(r'@\\w+', '@USER', text)\n",
    "    \n",
    "    # Handle hashtags - keep the text, remove #\n",
    "    text = re.sub(r'#(\\w+)', r'\\1', text)\n",
    "    \n",
    "    # Handle URLs\n",
    "    text = re.sub(r'http\\S+|www\\S+|https\\S+', 'URL', text, flags=re.MULTILINE)\n",
    "    \n",
    "    # Handle repeated characters (sooooo -> so)\n",
    "    text = re.sub(r'(.)\\1{2,}', r'\\1\\1', text)\n",
    "    \n",
    "    # Handle emojis - convert to text description\n",
    "    text = emoji.demojize(text, delimiters=(\" \", \" \"))\n",
    "    \n",
    "    # Clean extra whitespace\n",
    "    text = re.sub(r'\\s+', ' ', text).strip()\n",
    "    \n",
    "    return text"
   ]
  },
  {
   "cell_type": "code",
   "execution_count": 4,
   "id": "0a3ed79e",
   "metadata": {},
   "outputs": [],
   "source": [
    "def anonymize_with_ner(ner_pipeline, text):\n",
    "    \"\"\"Use NER to identify and anonymize personal information\"\"\"\n",
    "    \n",
    "    # Get entities\n",
    "    entities = ner_pipeline(text)\n",
    "    \n",
    "    # Replace person names, locations, organizations\n",
    "    for entity in sorted(entities, key=lambda x: x['start'], reverse=True):\n",
    "        if entity['entity'].startswith('B-PER') or entity['entity'].startswith('I-PER'):\n",
    "            text = text[:entity['start']] + '[PERSON]' + text[entity['end']:]\n",
    "        elif entity['entity'].startswith('B-LOC') or entity['entity'].startswith('I-LOC'):\n",
    "            text = text[:entity['start']] + '[LOCATION]' + text[entity['end']:]\n",
    "    \n",
    "    return text"
   ]
  },
  {
   "cell_type": "code",
   "execution_count": null,
   "id": "ce1aa2ab",
   "metadata": {},
   "outputs": [
    {
     "name": "stderr",
     "output_type": "stream",
     "text": [
      "Xet Storage is enabled for this repo, but the 'hf_xet' package is not installed. Falling back to regular HTTP download. For better performance, install the package with: `pip install huggingface_hub[hf_xet]` or `pip install hf_xet`\n",
      "c:\\Users\\qwsor\\OneDrive\\Desktop\\Hate-Speech-Detection-DistilBERT\\.venv\\Lib\\site-packages\\huggingface_hub\\file_download.py:143: UserWarning: `huggingface_hub` cache-system uses symlinks by default to efficiently store duplicated files but your machine does not support them in C:\\Users\\qwsor\\.cache\\huggingface\\hub\\models--dbmdz--bert-large-cased-finetuned-conll03-english. Caching files will still work but in a degraded version that might require more space on your disk. This warning can be disabled by setting the `HF_HUB_DISABLE_SYMLINKS_WARNING` environment variable. For more details, see https://huggingface.co/docs/huggingface_hub/how-to-cache#limitations.\n",
      "To support symlinks on Windows, you either need to activate Developer Mode or to run Python as an administrator. In order to activate developer mode, see this article: https://docs.microsoft.com/en-us/windows/apps/get-started/enable-your-device-for-development\n",
      "  warnings.warn(message)\n",
      "Some weights of the model checkpoint at dbmdz/bert-large-cased-finetuned-conll03-english were not used when initializing BertForTokenClassification: ['bert.pooler.dense.bias', 'bert.pooler.dense.weight']\n",
      "- This IS expected if you are initializing BertForTokenClassification from the checkpoint of a model trained on another task or with another architecture (e.g. initializing a BertForSequenceClassification model from a BertForPreTraining model).\n",
      "- This IS NOT expected if you are initializing BertForTokenClassification from the checkpoint of a model that you expect to be exactly identical (initializing a BertForSequenceClassification model from a BertForSequenceClassification model).\n",
      "Device set to use cpu\n"
     ]
    },
    {
     "name": "stdout",
     "output_type": "stream",
     "text": [
      "Processing training data...\n"
     ]
    }
   ],
   "source": [
    "# Apply to your dataset\n",
    "def preprocess_dataset(example):\n",
    "    example['tweet'] = regex_clean(example['tweet'])\n",
    "    example['tweet'] = anonymize_with_ner(example['tweet'])\n",
    "    return example\n",
    "\n",
    "\n",
    "# Load NER model\n",
    "ner_pipeline = pipeline(\"ner\", \n",
    "                       model=\"dbmdz/bert-large-cased-finetuned-conll03-english\",\n",
    "                       tokenizer=\"dbmdz/bert-large-cased-finetuned-conll03-english\")\n",
    "\n",
    "\n",
    "# Process each dataset\n",
    "print(\"Processing training data...\")\n",
    "train_data['tweet'] = train_data['tweet'].apply(lambda x: regex_clean(x))\n",
    "train_data['tweet'] = train_data['tweet'].apply(lambda x: anonymize_with_ner(ner_pipeline, x))\n",
    "\n",
    "print(\"Processing validation data...\")\n",
    "val_data['tweet'] = val_data['tweet'].apply(lambda x: regex_clean(x))\n",
    "val_data['tweet'] = val_data['tweet'].apply(lambda x: anonymize_with_ner(ner_pipeline, x))\n",
    "\n",
    "print(\"Processing test data...\")\n",
    "test_data['tweet'] = test_data['tweet'].apply(lambda x: regex_clean(x))\n",
    "test_data['tweet'] = test_data['tweet'].apply(lambda x: anonymize_with_ner(ner_pipeline, x))\n",
    "\n",
    "# Save processed datasets\n",
    "train_data.to_csv(\"data/processed_train_data.csv\", index=False)\n",
    "val_data.to_csv(\"data/processed_val_data.csv\", index=False)\n",
    "test_data.to_csv(\"data/processed_test_data.csv\", index=False)\n",
    "\n",
    "print(\"Processing complete! Saved to processed_*.csv files\")\n",
    "\n",
    "# Switch to google colab for gpu"
   ]
  }
 ],
 "metadata": {
  "kernelspec": {
   "display_name": ".venv",
   "language": "python",
   "name": "python3"
  },
  "language_info": {
   "codemirror_mode": {
    "name": "ipython",
    "version": 3
   },
   "file_extension": ".py",
   "mimetype": "text/x-python",
   "name": "python",
   "nbconvert_exporter": "python",
   "pygments_lexer": "ipython3",
   "version": "3.12.7"
  }
 },
 "nbformat": 4,
 "nbformat_minor": 5
}
