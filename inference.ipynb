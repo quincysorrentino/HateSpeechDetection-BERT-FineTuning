{
 "cells": [
  {
   "cell_type": "code",
   "execution_count": null,
   "id": "732f6702",
   "metadata": {},
   "outputs": [
    {
     "name": "stdout",
     "output_type": "stream",
     "text": [
      "Predicted class: 0\n",
      "Class probabilities: [0.5666724443435669, 0.30255210399627686, 0.13077542185783386]\n"
     ]
    }
   ],
   "source": [
    "from transformers import DistilBertTokenizer, DistilBertForSequenceClassification\n",
    "import torch\n",
    "\n",
    "# Load model and tokenizer\n",
    "model = DistilBertForSequenceClassification.from_pretrained(\"./hate_speech_model\")\n",
    "tokenizer = DistilBertTokenizer.from_pretrained(\"./hate_speech_model\")\n",
    "\n",
    "def predict_text(text):\n",
    "    # Prepare model for evaluation\n",
    "    model.eval()\n",
    "    \n",
    "    # Tokenize input\n",
    "    inputs = tokenizer(\n",
    "        text,\n",
    "        padding='max_length',\n",
    "        truncation=True,\n",
    "        max_length=128,\n",
    "        return_tensors=\"pt\"\n",
    "    )\n",
    "    \n",
    "    # Forward pass\n",
    "    with torch.no_grad():\n",
    "        outputs = model(**inputs)\n",
    "        predictions = torch.nn.functional.softmax(outputs.logits, dim=-1)\n",
    "        predicted_class = torch.argmax(predictions, dim=-1)\n",
    "    \n",
    "    return {\n",
    "        'class': predicted_class.item(),\n",
    "        'probabilities': predictions.squeeze().tolist()\n",
    "    }\n",
    "\n",
    "# Example usage\n",
    "text = \"\"\n",
    "result = predict_text(text)\n",
    "print(f\"Predicted class: {result['class']}\")\n",
    "print(f\"Class probabilities: {result['probabilities']}\")"
   ]
  }
 ],
 "metadata": {
  "kernelspec": {
   "display_name": ".venv",
   "language": "python",
   "name": "python3"
  },
  "language_info": {
   "codemirror_mode": {
    "name": "ipython",
    "version": 3
   },
   "file_extension": ".py",
   "mimetype": "text/x-python",
   "name": "python",
   "nbconvert_exporter": "python",
   "pygments_lexer": "ipython3",
   "version": "3.12.7"
  }
 },
 "nbformat": 4,
 "nbformat_minor": 5
}
